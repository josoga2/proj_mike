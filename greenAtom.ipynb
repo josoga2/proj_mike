{
  "nbformat": 4,
  "nbformat_minor": 0,
  "metadata": {
    "colab": {
      "name": "greenAtom.ipynb",
      "provenance": [],
      "collapsed_sections": []
    },
    "kernelspec": {
      "name": "python3",
      "display_name": "Python 3"
    },
    "accelerator": "GPU"
  },
  "cells": [
    {
      "cell_type": "code",
      "metadata": {
        "id": "biVIZt0gdz-S",
        "colab_type": "code",
        "colab": {}
      },
      "source": [
        "import tensorflow as tf\n",
        "import tensorflow_datasets as tfds\n"
      ],
      "execution_count": null,
      "outputs": []
    },
    {
      "cell_type": "code",
      "metadata": {
        "id": "8Xa1wWSken6e",
        "colab_type": "code",
        "colab": {
          "base_uri": "https://localhost:8080/",
          "height": 204
        },
        "outputId": "f88c4eda-5583-43db-8f44-8ca51a827c91"
      },
      "source": [
        "!wget https://ai.stanford.edu/~amaas/data/sentiment/aclImdb_v1.tar.gz"
      ],
      "execution_count": null,
      "outputs": [
        {
          "output_type": "stream",
          "text": [
            "--2020-06-28 07:07:50--  https://ai.stanford.edu/~amaas/data/sentiment/aclImdb_v1.tar.gz\n",
            "Resolving ai.stanford.edu (ai.stanford.edu)... 171.64.68.10\n",
            "Connecting to ai.stanford.edu (ai.stanford.edu)|171.64.68.10|:443... connected.\n",
            "HTTP request sent, awaiting response... 200 OK\n",
            "Length: 84125825 (80M) [application/x-gzip]\n",
            "Saving to: ‘aclImdb_v1.tar.gz’\n",
            "\n",
            "aclImdb_v1.tar.gz   100%[===================>]  80.23M  22.4MB/s    in 5.5s    \n",
            "\n",
            "2020-06-28 07:07:56 (14.6 MB/s) - ‘aclImdb_v1.tar.gz’ saved [84125825/84125825]\n",
            "\n"
          ],
          "name": "stdout"
        }
      ]
    },
    {
      "cell_type": "code",
      "metadata": {
        "id": "2kM6yeyijkiW",
        "colab_type": "code",
        "colab": {}
      },
      "source": [
        "!tar -xf aclImdb_v1.tar.gz"
      ],
      "execution_count": null,
      "outputs": []
    },
    {
      "cell_type": "code",
      "metadata": {
        "id": "jAivqEfckh60",
        "colab_type": "code",
        "colab": {
          "base_uri": "https://localhost:8080/",
          "height": 34
        },
        "outputId": "1331d4cb-8789-42d6-f1f0-6698bf23e713"
      },
      "source": [
        "!ls"
      ],
      "execution_count": null,
      "outputs": [
        {
          "output_type": "stream",
          "text": [
            "aclImdb  aclImdb_v1.tar.gz  sample_data\n"
          ],
          "name": "stdout"
        }
      ]
    },
    {
      "cell_type": "code",
      "metadata": {
        "id": "fJ8LNSyikl3C",
        "colab_type": "code",
        "colab": {}
      },
      "source": [
        "dataset, info = tfds.load('imdb_reviews/subwords8k', with_info=True, as_supervised=True)\n",
        "\n",
        "train_dataset, test_dataset = dataset['train'], dataset['test']\n",
        "\n",
        "encoder = info.features['text'].encoder"
      ],
      "execution_count": null,
      "outputs": []
    },
    {
      "cell_type": "code",
      "metadata": {
        "id": "G6zq_tgFlqwI",
        "colab_type": "code",
        "colab": {
          "base_uri": "https://localhost:8080/",
          "height": 34
        },
        "outputId": "83533361-8475-4b85-890a-3be34016fe1e"
      },
      "source": [
        "type(encoder)"
      ],
      "execution_count": null,
      "outputs": [
        {
          "output_type": "execute_result",
          "data": {
            "text/plain": [
              "tensorflow_datasets.core.features.text.subword_text_encoder.SubwordTextEncoder"
            ]
          },
          "metadata": {
            "tags": []
          },
          "execution_count": 16
        }
      ]
    },
    {
      "cell_type": "code",
      "metadata": {
        "id": "LtmFCV1dlquj",
        "colab_type": "code",
        "colab": {}
      },
      "source": [
        "BUFFER_SIZE = 10000\n",
        "BATCH_SIZE = 64"
      ],
      "execution_count": null,
      "outputs": []
    },
    {
      "cell_type": "code",
      "metadata": {
        "id": "CFNZ2wFTlqsi",
        "colab_type": "code",
        "colab": {}
      },
      "source": [
        "padded_shapes = ([None], ())"
      ],
      "execution_count": null,
      "outputs": []
    },
    {
      "cell_type": "code",
      "metadata": {
        "id": "Vo41F_KUlqo2",
        "colab_type": "code",
        "colab": {}
      },
      "source": [
        "train_dataset = train_dataset.shuffle(BUFFER_SIZE).padded_batch(BATCH_SIZE, \n",
        "                                                                padded_shapes=padded_shapes)"
      ],
      "execution_count": null,
      "outputs": []
    },
    {
      "cell_type": "code",
      "metadata": {
        "id": "tk4bKjgQlqmX",
        "colab_type": "code",
        "colab": {}
      },
      "source": [
        "test_dataset = test_dataset.padded_batch(BATCH_SIZE, padded_shapes=padded_shapes)"
      ],
      "execution_count": null,
      "outputs": []
    },
    {
      "cell_type": "code",
      "metadata": {
        "id": "7X614cfnlqjr",
        "colab_type": "code",
        "colab": {}
      },
      "source": [
        "model = tf.keras.Sequential([tf.keras.layers.Embedding(encoder.vocab_size, 64),\n",
        "                             tf.keras.layers.Bidirectional(tf.keras.layers.LSTM(64, return_sequences=True)),\n",
        "                             tf.keras.layers.Bidirectional(tf.keras.layers.LSTM(32)),\n",
        "                             tf.keras.layers.Dense(64, activation= 'relu'),\n",
        "                             tf.keras.layers.Dropout(0.5),\n",
        "                             tf.keras.layers.Dense(1,activation=\"sigmoid\")])"
      ],
      "execution_count": null,
      "outputs": []
    },
    {
      "cell_type": "code",
      "metadata": {
        "id": "sVfsBPcQlqhF",
        "colab_type": "code",
        "colab": {
          "base_uri": "https://localhost:8080/",
          "height": 357
        },
        "outputId": "697037dd-7fc1-43a1-bf0f-4bd2d9f34d80"
      },
      "source": [
        "model.compile(loss='binary_crossentropy',\n",
        "              optimizer=tf.keras.optimizers.Adam(1e-4),\n",
        "              metrics=['accuracy'])\n",
        "\n",
        "history = model.fit(train_dataset, epochs=10, validation_data = test_dataset,\n",
        "                    validation_steps=30)\n",
        "\n",
        "def pad_to_size(vec, size):\n",
        "  zeros = [0]*(size-len(vec))\n",
        "  vec.extend(zeros)\n",
        "  return vec\n",
        "\n",
        "def sample_predict(sentence, pad):\n",
        "  encoded_sample_pred_text = encoder.encode(sentence)\n",
        "  if pad:\n",
        "    encoded_sample_pred_text = pad_to_size(encoded_sample_pred_text, 64)\n",
        "  encoded_sample_pred_text = tf.cast(encoded_sample_pred_text, tf.float32)\n",
        "  predictions = model.predict(tf.expand_dims(encoded_sample_pred_text, 0))\n",
        "  return predictions\n",
        "\n",
        "\n",
        "sample_text = ('This movie was emotional. The actors were perfect. A must watch')\n",
        "predictions = sample_predict(sample_text, pad=True)*10"
      ],
      "execution_count": null,
      "outputs": [
        {
          "output_type": "stream",
          "text": [
            "Epoch 1/10\n",
            "391/391 [==============================] - 78s 201ms/step - loss: 0.6761 - accuracy: 0.5692 - val_loss: 0.5420 - val_accuracy: 0.7401\n",
            "Epoch 2/10\n",
            "391/391 [==============================] - 80s 205ms/step - loss: 0.3990 - accuracy: 0.8385 - val_loss: 0.3649 - val_accuracy: 0.8516\n",
            "Epoch 3/10\n",
            "391/391 [==============================] - 81s 207ms/step - loss: 0.2812 - accuracy: 0.9007 - val_loss: 0.3452 - val_accuracy: 0.8719\n",
            "Epoch 4/10\n",
            "391/391 [==============================] - 82s 208ms/step - loss: 0.2262 - accuracy: 0.9250 - val_loss: 0.3443 - val_accuracy: 0.8766\n",
            "Epoch 5/10\n",
            "391/391 [==============================] - 81s 207ms/step - loss: 0.1950 - accuracy: 0.9392 - val_loss: 0.3710 - val_accuracy: 0.8661\n",
            "Epoch 6/10\n",
            "391/391 [==============================] - 80s 204ms/step - loss: 0.1678 - accuracy: 0.9508 - val_loss: 0.3799 - val_accuracy: 0.8672\n",
            "Epoch 7/10\n",
            "391/391 [==============================] - 80s 205ms/step - loss: 0.1434 - accuracy: 0.9603 - val_loss: 0.4257 - val_accuracy: 0.8609\n",
            "Epoch 8/10\n",
            "391/391 [==============================] - 80s 206ms/step - loss: 0.1240 - accuracy: 0.9680 - val_loss: 0.4399 - val_accuracy: 0.8604\n",
            "Epoch 9/10\n",
            "391/391 [==============================] - 80s 203ms/step - loss: 0.1164 - accuracy: 0.9702 - val_loss: 0.4821 - val_accuracy: 0.8526\n",
            "Epoch 10/10\n",
            "391/391 [==============================] - 80s 204ms/step - loss: 0.1015 - accuracy: 0.9750 - val_loss: 0.4850 - val_accuracy: 0.8578\n"
          ],
          "name": "stdout"
        }
      ]
    },
    {
      "cell_type": "code",
      "metadata": {
        "id": "PQy_kCd4lqeo",
        "colab_type": "code",
        "colab": {
          "base_uri": "https://localhost:8080/"
        },
        "outputId": "760ac55c-70bf-480a-9821-ae3d0e106ecb"
      },
      "source": [
        "print('Predicted review based on IMDB data%.2f' %predictions)"
      ],
      "execution_count": null,
      "outputs": [
        {
          "output_type": "stream",
          "text": [
            "Predicted review based on IMDB data9.84\n"
          ],
          "name": "stdout"
        }
      ]
    },
    {
      "cell_type": "code",
      "metadata": {
        "id": "kCvqsuNClqcg",
        "colab_type": "code",
        "colab": {}
      },
      "source": [
        "#transfer to django web app for real time consumer feedback"
      ],
      "execution_count": null,
      "outputs": []
    },
    {
      "cell_type": "code",
      "metadata": {
        "id": "GaOV4gH3lqY-",
        "colab_type": "code",
        "colab": {}
      },
      "source": [
        ""
      ],
      "execution_count": null,
      "outputs": []
    },
    {
      "cell_type": "code",
      "metadata": {
        "id": "x0lbnq-blqW0",
        "colab_type": "code",
        "colab": {}
      },
      "source": [
        ""
      ],
      "execution_count": null,
      "outputs": []
    },
    {
      "cell_type": "code",
      "metadata": {
        "id": "9hKGS5UNlqUz",
        "colab_type": "code",
        "colab": {}
      },
      "source": [
        ""
      ],
      "execution_count": null,
      "outputs": []
    },
    {
      "cell_type": "code",
      "metadata": {
        "id": "0uXt86eglqQr",
        "colab_type": "code",
        "colab": {}
      },
      "source": [
        ""
      ],
      "execution_count": null,
      "outputs": []
    },
    {
      "cell_type": "code",
      "metadata": {
        "id": "je0eoSQwlqOn",
        "colab_type": "code",
        "colab": {}
      },
      "source": [
        ""
      ],
      "execution_count": null,
      "outputs": []
    },
    {
      "cell_type": "code",
      "metadata": {
        "id": "tDbgB0UClqLn",
        "colab_type": "code",
        "colab": {}
      },
      "source": [
        ""
      ],
      "execution_count": null,
      "outputs": []
    },
    {
      "cell_type": "code",
      "metadata": {
        "id": "L5D5zguVlqIx",
        "colab_type": "code",
        "colab": {}
      },
      "source": [
        ""
      ],
      "execution_count": null,
      "outputs": []
    }
  ]
}